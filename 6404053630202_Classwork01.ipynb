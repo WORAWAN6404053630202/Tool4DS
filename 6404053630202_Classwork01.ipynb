{
  "nbformat": 4,
  "nbformat_minor": 0,
  "metadata": {
    "colab": {
      "provenance": [],
      "mount_file_id": "1ykV2tBzXYlls-QdqSKBwUtF3szGIKvpt",
      "authorship_tag": "ABX9TyPJH1G2ODW76nXtMX4AfP+C",
      "include_colab_link": true
    },
    "kernelspec": {
      "name": "python3",
      "display_name": "Python 3"
    },
    "language_info": {
      "name": "python"
    }
  },
  "cells": [
    {
      "cell_type": "markdown",
      "metadata": {
        "id": "view-in-github",
        "colab_type": "text"
      },
      "source": [
        "<a href=\"https://colab.research.google.com/github/WORAWAN6404053630202/Tool4DS/blob/main/6404053630202_Classwork01.ipynb\" target=\"_parent\"><img src=\"https://colab.research.google.com/assets/colab-badge.svg\" alt=\"Open In Colab\"/></a>"
      ]
    },
    {
      "cell_type": "markdown",
      "source": [
        "## **Data**"
      ],
      "metadata": {
        "id": "cD4IiD5Zxf1I"
      }
    },
    {
      "cell_type": "code",
      "source": [
        "pip install -U scikit-learn"
      ],
      "metadata": {
        "colab": {
          "base_uri": "https://localhost:8080/"
        },
        "id": "lXsVOIeXMe-_",
        "outputId": "d61cc9b0-149b-46b0-bcd6-4690f1c45b54"
      },
      "execution_count": 1,
      "outputs": [
        {
          "output_type": "stream",
          "name": "stdout",
          "text": [
            "Requirement already satisfied: scikit-learn in /usr/local/lib/python3.10/dist-packages (1.2.2)\n",
            "Collecting scikit-learn\n",
            "  Downloading scikit_learn-1.3.2-cp310-cp310-manylinux_2_17_x86_64.manylinux2014_x86_64.whl (10.8 MB)\n",
            "\u001b[2K     \u001b[90m━━━━━━━━━━━━━━━━━━━━━━━━━━━━━━━━━━━━━━━━\u001b[0m \u001b[32m10.8/10.8 MB\u001b[0m \u001b[31m36.7 MB/s\u001b[0m eta \u001b[36m0:00:00\u001b[0m\n",
            "\u001b[?25hRequirement already satisfied: numpy<2.0,>=1.17.3 in /usr/local/lib/python3.10/dist-packages (from scikit-learn) (1.23.5)\n",
            "Requirement already satisfied: scipy>=1.5.0 in /usr/local/lib/python3.10/dist-packages (from scikit-learn) (1.11.4)\n",
            "Requirement already satisfied: joblib>=1.1.1 in /usr/local/lib/python3.10/dist-packages (from scikit-learn) (1.3.2)\n",
            "Requirement already satisfied: threadpoolctl>=2.0.0 in /usr/local/lib/python3.10/dist-packages (from scikit-learn) (3.2.0)\n",
            "Installing collected packages: scikit-learn\n",
            "  Attempting uninstall: scikit-learn\n",
            "    Found existing installation: scikit-learn 1.2.2\n",
            "    Uninstalling scikit-learn-1.2.2:\n",
            "      Successfully uninstalled scikit-learn-1.2.2\n",
            "Successfully installed scikit-learn-1.3.2\n"
          ]
        }
      ]
    },
    {
      "cell_type": "code",
      "source": [
        "import pandas as pd\n",
        "import numpy as np\n",
        "from numpy import mean,std\n",
        "from sklearn.model_selection import train_test_split, RepeatedStratifiedKFold, RepeatedKFold, cross_val_score\n",
        "from sklearn.feature_selection import RFE, SelectKBest, f_regression, mutual_info_classif, f_classif, SelectFromModel, chi2\n",
        "from sklearn.ensemble import RandomForestClassifier, RandomForestRegressor\n",
        "from sklearn.linear_model import LogisticRegression\n",
        "from sklearn.tree import DecisionTreeClassifier, DecisionTreeRegressor\n",
        "from sklearn.neighbors import KNeighborsRegressor\n",
        "from sklearn.pipeline import Pipeline\n",
        "from sklearn.inspection import permutation_importance\n",
        "from matplotlib import pyplot as plt\n",
        "from sklearn.datasets import make_classification\n",
        "from sklearn.metrics import accuracy_score"
      ],
      "metadata": {
        "id": "B_dnDN3DMfLX"
      },
      "execution_count": 15,
      "outputs": []
    },
    {
      "cell_type": "code",
      "source": [
        "COLUMN_NAMES = ['pregnancies', 'glucose', 'blood pressure', 'skin', 'insulin', 'bmi', 'pedigree', 'age', 'diabetic']\n",
        "df = pd.read_csv(\"/content/drive/MyDrive/2 66/Tool4DS/Assignment/Classwork01/pima-indians-diabetes.csv\", names=COLUMN_NAMES)"
      ],
      "metadata": {
        "id": "wCu9o2TxTi_x"
      },
      "execution_count": 4,
      "outputs": []
    },
    {
      "cell_type": "code",
      "source": [
        "df.shape"
      ],
      "metadata": {
        "colab": {
          "base_uri": "https://localhost:8080/"
        },
        "id": "TilhTFbpiMId",
        "outputId": "baaf4002-aa7c-4c58-d758-39cd769e1edd"
      },
      "execution_count": 5,
      "outputs": [
        {
          "output_type": "execute_result",
          "data": {
            "text/plain": [
              "(768, 9)"
            ]
          },
          "metadata": {},
          "execution_count": 5
        }
      ]
    },
    {
      "cell_type": "code",
      "source": [
        "# Remove the class variable from the data set\n",
        "X = df.drop('diabetic', axis=1)\n",
        "y = df['diabetic']\n",
        "\n",
        "# Split the dataset into a training set and a test set (e.g., 80% training, 20% testing)\n",
        "X_train, X_test, y_train, y_test = train_test_split(X, y, test_size=0.2, random_state=42)"
      ],
      "metadata": {
        "id": "ugG2NY6gPCKI"
      },
      "execution_count": 6,
      "outputs": []
    },
    {
      "cell_type": "code",
      "source": [
        "# get the dataset\n",
        "def get_dataset():\n",
        "  X = df.drop('diabetic', axis=1)\n",
        "  y = df['diabetic']\n",
        "  return X, y"
      ],
      "metadata": {
        "id": "6HquWAAJDY5W"
      },
      "execution_count": 7,
      "outputs": []
    },
    {
      "cell_type": "code",
      "source": [
        "X"
      ],
      "metadata": {
        "colab": {
          "base_uri": "https://localhost:8080/",
          "height": 424
        },
        "id": "quRhrxjnENaX",
        "outputId": "23d81c31-3b8f-49a3-f103-09d01cba9bb4"
      },
      "execution_count": 8,
      "outputs": [
        {
          "output_type": "execute_result",
          "data": {
            "text/plain": [
              "     pregnancies  glucose  blood pressure  skin  insulin   bmi  pedigree  age\n",
              "0              6      148              72    35        0  33.6     0.627   50\n",
              "1              1       85              66    29        0  26.6     0.351   31\n",
              "2              8      183              64     0        0  23.3     0.672   32\n",
              "3              1       89              66    23       94  28.1     0.167   21\n",
              "4              0      137              40    35      168  43.1     2.288   33\n",
              "..           ...      ...             ...   ...      ...   ...       ...  ...\n",
              "763           10      101              76    48      180  32.9     0.171   63\n",
              "764            2      122              70    27        0  36.8     0.340   27\n",
              "765            5      121              72    23      112  26.2     0.245   30\n",
              "766            1      126              60     0        0  30.1     0.349   47\n",
              "767            1       93              70    31        0  30.4     0.315   23\n",
              "\n",
              "[768 rows x 8 columns]"
            ],
            "text/html": [
              "\n",
              "  <div id=\"df-fb6ebc27-942d-4a7b-8524-0a077f7937d9\" class=\"colab-df-container\">\n",
              "    <div>\n",
              "<style scoped>\n",
              "    .dataframe tbody tr th:only-of-type {\n",
              "        vertical-align: middle;\n",
              "    }\n",
              "\n",
              "    .dataframe tbody tr th {\n",
              "        vertical-align: top;\n",
              "    }\n",
              "\n",
              "    .dataframe thead th {\n",
              "        text-align: right;\n",
              "    }\n",
              "</style>\n",
              "<table border=\"1\" class=\"dataframe\">\n",
              "  <thead>\n",
              "    <tr style=\"text-align: right;\">\n",
              "      <th></th>\n",
              "      <th>pregnancies</th>\n",
              "      <th>glucose</th>\n",
              "      <th>blood pressure</th>\n",
              "      <th>skin</th>\n",
              "      <th>insulin</th>\n",
              "      <th>bmi</th>\n",
              "      <th>pedigree</th>\n",
              "      <th>age</th>\n",
              "    </tr>\n",
              "  </thead>\n",
              "  <tbody>\n",
              "    <tr>\n",
              "      <th>0</th>\n",
              "      <td>6</td>\n",
              "      <td>148</td>\n",
              "      <td>72</td>\n",
              "      <td>35</td>\n",
              "      <td>0</td>\n",
              "      <td>33.6</td>\n",
              "      <td>0.627</td>\n",
              "      <td>50</td>\n",
              "    </tr>\n",
              "    <tr>\n",
              "      <th>1</th>\n",
              "      <td>1</td>\n",
              "      <td>85</td>\n",
              "      <td>66</td>\n",
              "      <td>29</td>\n",
              "      <td>0</td>\n",
              "      <td>26.6</td>\n",
              "      <td>0.351</td>\n",
              "      <td>31</td>\n",
              "    </tr>\n",
              "    <tr>\n",
              "      <th>2</th>\n",
              "      <td>8</td>\n",
              "      <td>183</td>\n",
              "      <td>64</td>\n",
              "      <td>0</td>\n",
              "      <td>0</td>\n",
              "      <td>23.3</td>\n",
              "      <td>0.672</td>\n",
              "      <td>32</td>\n",
              "    </tr>\n",
              "    <tr>\n",
              "      <th>3</th>\n",
              "      <td>1</td>\n",
              "      <td>89</td>\n",
              "      <td>66</td>\n",
              "      <td>23</td>\n",
              "      <td>94</td>\n",
              "      <td>28.1</td>\n",
              "      <td>0.167</td>\n",
              "      <td>21</td>\n",
              "    </tr>\n",
              "    <tr>\n",
              "      <th>4</th>\n",
              "      <td>0</td>\n",
              "      <td>137</td>\n",
              "      <td>40</td>\n",
              "      <td>35</td>\n",
              "      <td>168</td>\n",
              "      <td>43.1</td>\n",
              "      <td>2.288</td>\n",
              "      <td>33</td>\n",
              "    </tr>\n",
              "    <tr>\n",
              "      <th>...</th>\n",
              "      <td>...</td>\n",
              "      <td>...</td>\n",
              "      <td>...</td>\n",
              "      <td>...</td>\n",
              "      <td>...</td>\n",
              "      <td>...</td>\n",
              "      <td>...</td>\n",
              "      <td>...</td>\n",
              "    </tr>\n",
              "    <tr>\n",
              "      <th>763</th>\n",
              "      <td>10</td>\n",
              "      <td>101</td>\n",
              "      <td>76</td>\n",
              "      <td>48</td>\n",
              "      <td>180</td>\n",
              "      <td>32.9</td>\n",
              "      <td>0.171</td>\n",
              "      <td>63</td>\n",
              "    </tr>\n",
              "    <tr>\n",
              "      <th>764</th>\n",
              "      <td>2</td>\n",
              "      <td>122</td>\n",
              "      <td>70</td>\n",
              "      <td>27</td>\n",
              "      <td>0</td>\n",
              "      <td>36.8</td>\n",
              "      <td>0.340</td>\n",
              "      <td>27</td>\n",
              "    </tr>\n",
              "    <tr>\n",
              "      <th>765</th>\n",
              "      <td>5</td>\n",
              "      <td>121</td>\n",
              "      <td>72</td>\n",
              "      <td>23</td>\n",
              "      <td>112</td>\n",
              "      <td>26.2</td>\n",
              "      <td>0.245</td>\n",
              "      <td>30</td>\n",
              "    </tr>\n",
              "    <tr>\n",
              "      <th>766</th>\n",
              "      <td>1</td>\n",
              "      <td>126</td>\n",
              "      <td>60</td>\n",
              "      <td>0</td>\n",
              "      <td>0</td>\n",
              "      <td>30.1</td>\n",
              "      <td>0.349</td>\n",
              "      <td>47</td>\n",
              "    </tr>\n",
              "    <tr>\n",
              "      <th>767</th>\n",
              "      <td>1</td>\n",
              "      <td>93</td>\n",
              "      <td>70</td>\n",
              "      <td>31</td>\n",
              "      <td>0</td>\n",
              "      <td>30.4</td>\n",
              "      <td>0.315</td>\n",
              "      <td>23</td>\n",
              "    </tr>\n",
              "  </tbody>\n",
              "</table>\n",
              "<p>768 rows × 8 columns</p>\n",
              "</div>\n",
              "    <div class=\"colab-df-buttons\">\n",
              "\n",
              "  <div class=\"colab-df-container\">\n",
              "    <button class=\"colab-df-convert\" onclick=\"convertToInteractive('df-fb6ebc27-942d-4a7b-8524-0a077f7937d9')\"\n",
              "            title=\"Convert this dataframe to an interactive table.\"\n",
              "            style=\"display:none;\">\n",
              "\n",
              "  <svg xmlns=\"http://www.w3.org/2000/svg\" height=\"24px\" viewBox=\"0 -960 960 960\">\n",
              "    <path d=\"M120-120v-720h720v720H120Zm60-500h600v-160H180v160Zm220 220h160v-160H400v160Zm0 220h160v-160H400v160ZM180-400h160v-160H180v160Zm440 0h160v-160H620v160ZM180-180h160v-160H180v160Zm440 0h160v-160H620v160Z\"/>\n",
              "  </svg>\n",
              "    </button>\n",
              "\n",
              "  <style>\n",
              "    .colab-df-container {\n",
              "      display:flex;\n",
              "      gap: 12px;\n",
              "    }\n",
              "\n",
              "    .colab-df-convert {\n",
              "      background-color: #E8F0FE;\n",
              "      border: none;\n",
              "      border-radius: 50%;\n",
              "      cursor: pointer;\n",
              "      display: none;\n",
              "      fill: #1967D2;\n",
              "      height: 32px;\n",
              "      padding: 0 0 0 0;\n",
              "      width: 32px;\n",
              "    }\n",
              "\n",
              "    .colab-df-convert:hover {\n",
              "      background-color: #E2EBFA;\n",
              "      box-shadow: 0px 1px 2px rgba(60, 64, 67, 0.3), 0px 1px 3px 1px rgba(60, 64, 67, 0.15);\n",
              "      fill: #174EA6;\n",
              "    }\n",
              "\n",
              "    .colab-df-buttons div {\n",
              "      margin-bottom: 4px;\n",
              "    }\n",
              "\n",
              "    [theme=dark] .colab-df-convert {\n",
              "      background-color: #3B4455;\n",
              "      fill: #D2E3FC;\n",
              "    }\n",
              "\n",
              "    [theme=dark] .colab-df-convert:hover {\n",
              "      background-color: #434B5C;\n",
              "      box-shadow: 0px 1px 3px 1px rgba(0, 0, 0, 0.15);\n",
              "      filter: drop-shadow(0px 1px 2px rgba(0, 0, 0, 0.3));\n",
              "      fill: #FFFFFF;\n",
              "    }\n",
              "  </style>\n",
              "\n",
              "    <script>\n",
              "      const buttonEl =\n",
              "        document.querySelector('#df-fb6ebc27-942d-4a7b-8524-0a077f7937d9 button.colab-df-convert');\n",
              "      buttonEl.style.display =\n",
              "        google.colab.kernel.accessAllowed ? 'block' : 'none';\n",
              "\n",
              "      async function convertToInteractive(key) {\n",
              "        const element = document.querySelector('#df-fb6ebc27-942d-4a7b-8524-0a077f7937d9');\n",
              "        const dataTable =\n",
              "          await google.colab.kernel.invokeFunction('convertToInteractive',\n",
              "                                                    [key], {});\n",
              "        if (!dataTable) return;\n",
              "\n",
              "        const docLinkHtml = 'Like what you see? Visit the ' +\n",
              "          '<a target=\"_blank\" href=https://colab.research.google.com/notebooks/data_table.ipynb>data table notebook</a>'\n",
              "          + ' to learn more about interactive tables.';\n",
              "        element.innerHTML = '';\n",
              "        dataTable['output_type'] = 'display_data';\n",
              "        await google.colab.output.renderOutput(dataTable, element);\n",
              "        const docLink = document.createElement('div');\n",
              "        docLink.innerHTML = docLinkHtml;\n",
              "        element.appendChild(docLink);\n",
              "      }\n",
              "    </script>\n",
              "  </div>\n",
              "\n",
              "\n",
              "<div id=\"df-f8c67702-a927-4d42-881e-f9575ad41fef\">\n",
              "  <button class=\"colab-df-quickchart\" onclick=\"quickchart('df-f8c67702-a927-4d42-881e-f9575ad41fef')\"\n",
              "            title=\"Suggest charts\"\n",
              "            style=\"display:none;\">\n",
              "\n",
              "<svg xmlns=\"http://www.w3.org/2000/svg\" height=\"24px\"viewBox=\"0 0 24 24\"\n",
              "     width=\"24px\">\n",
              "    <g>\n",
              "        <path d=\"M19 3H5c-1.1 0-2 .9-2 2v14c0 1.1.9 2 2 2h14c1.1 0 2-.9 2-2V5c0-1.1-.9-2-2-2zM9 17H7v-7h2v7zm4 0h-2V7h2v10zm4 0h-2v-4h2v4z\"/>\n",
              "    </g>\n",
              "</svg>\n",
              "  </button>\n",
              "\n",
              "<style>\n",
              "  .colab-df-quickchart {\n",
              "      --bg-color: #E8F0FE;\n",
              "      --fill-color: #1967D2;\n",
              "      --hover-bg-color: #E2EBFA;\n",
              "      --hover-fill-color: #174EA6;\n",
              "      --disabled-fill-color: #AAA;\n",
              "      --disabled-bg-color: #DDD;\n",
              "  }\n",
              "\n",
              "  [theme=dark] .colab-df-quickchart {\n",
              "      --bg-color: #3B4455;\n",
              "      --fill-color: #D2E3FC;\n",
              "      --hover-bg-color: #434B5C;\n",
              "      --hover-fill-color: #FFFFFF;\n",
              "      --disabled-bg-color: #3B4455;\n",
              "      --disabled-fill-color: #666;\n",
              "  }\n",
              "\n",
              "  .colab-df-quickchart {\n",
              "    background-color: var(--bg-color);\n",
              "    border: none;\n",
              "    border-radius: 50%;\n",
              "    cursor: pointer;\n",
              "    display: none;\n",
              "    fill: var(--fill-color);\n",
              "    height: 32px;\n",
              "    padding: 0;\n",
              "    width: 32px;\n",
              "  }\n",
              "\n",
              "  .colab-df-quickchart:hover {\n",
              "    background-color: var(--hover-bg-color);\n",
              "    box-shadow: 0 1px 2px rgba(60, 64, 67, 0.3), 0 1px 3px 1px rgba(60, 64, 67, 0.15);\n",
              "    fill: var(--button-hover-fill-color);\n",
              "  }\n",
              "\n",
              "  .colab-df-quickchart-complete:disabled,\n",
              "  .colab-df-quickchart-complete:disabled:hover {\n",
              "    background-color: var(--disabled-bg-color);\n",
              "    fill: var(--disabled-fill-color);\n",
              "    box-shadow: none;\n",
              "  }\n",
              "\n",
              "  .colab-df-spinner {\n",
              "    border: 2px solid var(--fill-color);\n",
              "    border-color: transparent;\n",
              "    border-bottom-color: var(--fill-color);\n",
              "    animation:\n",
              "      spin 1s steps(1) infinite;\n",
              "  }\n",
              "\n",
              "  @keyframes spin {\n",
              "    0% {\n",
              "      border-color: transparent;\n",
              "      border-bottom-color: var(--fill-color);\n",
              "      border-left-color: var(--fill-color);\n",
              "    }\n",
              "    20% {\n",
              "      border-color: transparent;\n",
              "      border-left-color: var(--fill-color);\n",
              "      border-top-color: var(--fill-color);\n",
              "    }\n",
              "    30% {\n",
              "      border-color: transparent;\n",
              "      border-left-color: var(--fill-color);\n",
              "      border-top-color: var(--fill-color);\n",
              "      border-right-color: var(--fill-color);\n",
              "    }\n",
              "    40% {\n",
              "      border-color: transparent;\n",
              "      border-right-color: var(--fill-color);\n",
              "      border-top-color: var(--fill-color);\n",
              "    }\n",
              "    60% {\n",
              "      border-color: transparent;\n",
              "      border-right-color: var(--fill-color);\n",
              "    }\n",
              "    80% {\n",
              "      border-color: transparent;\n",
              "      border-right-color: var(--fill-color);\n",
              "      border-bottom-color: var(--fill-color);\n",
              "    }\n",
              "    90% {\n",
              "      border-color: transparent;\n",
              "      border-bottom-color: var(--fill-color);\n",
              "    }\n",
              "  }\n",
              "</style>\n",
              "\n",
              "  <script>\n",
              "    async function quickchart(key) {\n",
              "      const quickchartButtonEl =\n",
              "        document.querySelector('#' + key + ' button');\n",
              "      quickchartButtonEl.disabled = true;  // To prevent multiple clicks.\n",
              "      quickchartButtonEl.classList.add('colab-df-spinner');\n",
              "      try {\n",
              "        const charts = await google.colab.kernel.invokeFunction(\n",
              "            'suggestCharts', [key], {});\n",
              "      } catch (error) {\n",
              "        console.error('Error during call to suggestCharts:', error);\n",
              "      }\n",
              "      quickchartButtonEl.classList.remove('colab-df-spinner');\n",
              "      quickchartButtonEl.classList.add('colab-df-quickchart-complete');\n",
              "    }\n",
              "    (() => {\n",
              "      let quickchartButtonEl =\n",
              "        document.querySelector('#df-f8c67702-a927-4d42-881e-f9575ad41fef button');\n",
              "      quickchartButtonEl.style.display =\n",
              "        google.colab.kernel.accessAllowed ? 'block' : 'none';\n",
              "    })();\n",
              "  </script>\n",
              "</div>\n",
              "    </div>\n",
              "  </div>\n"
            ]
          },
          "metadata": {},
          "execution_count": 8
        }
      ]
    },
    {
      "cell_type": "code",
      "source": [
        "y"
      ],
      "metadata": {
        "colab": {
          "base_uri": "https://localhost:8080/"
        },
        "id": "tljpaDO_EWmX",
        "outputId": "3899a7f5-45a8-4bfb-e7db-b5172477584a"
      },
      "execution_count": 9,
      "outputs": [
        {
          "output_type": "execute_result",
          "data": {
            "text/plain": [
              "0      1\n",
              "1      0\n",
              "2      1\n",
              "3      0\n",
              "4      1\n",
              "      ..\n",
              "763    0\n",
              "764    0\n",
              "765    0\n",
              "766    1\n",
              "767    0\n",
              "Name: diabetic, Length: 768, dtype: int64"
            ]
          },
          "metadata": {},
          "execution_count": 9
        }
      ]
    },
    {
      "cell_type": "markdown",
      "source": [
        "## **1.Statistics Feature**"
      ],
      "metadata": {
        "id": "ddWes92aeYtM"
      }
    },
    {
      "cell_type": "markdown",
      "source": [
        "####Classification Feature Selection"
      ],
      "metadata": {
        "id": "PeC-ywUUhVK9"
      }
    },
    {
      "cell_type": "code",
      "source": [
        "# ANOVA feature selection for numeric input and categorical output\n",
        "from sklearn.feature_selection import f_classif# get the dataset\n",
        "\n",
        "X,y=  get_dataset()\n",
        "# define feature selection\n",
        "fs = SelectKBest(score_func=f_classif, k=2)\n",
        "# apply feature selection\n",
        "X_selected = fs.fit_transform(X, y)\n",
        "print(X_selected.shape)"
      ],
      "metadata": {
        "colab": {
          "base_uri": "https://localhost:8080/"
        },
        "id": "dX5eB-K9hSc1",
        "outputId": "f77f1776-5eb3-4d92-b22f-8a4b1870a691"
      },
      "execution_count": 10,
      "outputs": [
        {
          "output_type": "stream",
          "name": "stdout",
          "text": [
            "(768, 2)\n"
          ]
        }
      ]
    },
    {
      "cell_type": "code",
      "source": [
        "X_selected"
      ],
      "metadata": {
        "colab": {
          "base_uri": "https://localhost:8080/"
        },
        "id": "GdL5lP1cFGm3",
        "outputId": "90f2db3d-acf3-4c0e-9e63-4611740b8e90"
      },
      "execution_count": 11,
      "outputs": [
        {
          "output_type": "execute_result",
          "data": {
            "text/plain": [
              "array([[148. ,  33.6],\n",
              "       [ 85. ,  26.6],\n",
              "       [183. ,  23.3],\n",
              "       ...,\n",
              "       [121. ,  26.2],\n",
              "       [126. ,  30.1],\n",
              "       [ 93. ,  30.4]])"
            ]
          },
          "metadata": {},
          "execution_count": 11
        }
      ]
    },
    {
      "cell_type": "markdown",
      "source": [
        "## **2.Recursive Feature Elimination (RFE)**"
      ],
      "metadata": {
        "id": "VALRFmkGVDIh"
      }
    },
    {
      "cell_type": "markdown",
      "source": [
        "### **RFE for Classification**"
      ],
      "metadata": {
        "id": "_RWVqPqbVRDR"
      }
    },
    {
      "cell_type": "code",
      "source": [
        "# evaluate RFE for classification\n",
        "from numpy import mean\n",
        "from numpy import std\n",
        "from sklearn.datasets import make_classification\n",
        "from sklearn.model_selection import cross_val_score\n",
        "from sklearn.model_selection import RepeatedStratifiedKFold\n",
        "from sklearn.feature_selection import RFE\n",
        "from sklearn.tree import DecisionTreeClassifier\n",
        "from sklearn.pipeline import Pipeline\n",
        "# get the dataset\n",
        "def get_dataset():\n",
        "  X = df.drop('Class variable (0 or 1)', axis=1)\n",
        "  y = df['Class variable (0 or 1)']\n",
        "  return X, y\n",
        "# create pipeline\n",
        "rfe = RFE(estimator=DecisionTreeClassifier(), n_features_to_select=5)\n",
        "model = DecisionTreeClassifier()\n",
        "pipeline = Pipeline(steps=[('s',rfe),('m',model)])\n",
        "# evaluate model\n",
        "cv = RepeatedStratifiedKFold(n_splits=10, n_repeats=3, random_state=42)\n",
        "n_scores = cross_val_score(pipeline, X , y , scoring='accuracy', cv=cv, n_jobs=-1, error_score='raise')\n",
        "# report performance\n",
        "print('Accuracy: %.3f (%.3f)' % (mean(n_scores), std(n_scores)))"
      ],
      "metadata": {
        "colab": {
          "base_uri": "https://localhost:8080/"
        },
        "id": "y0CLHacQU6_h",
        "outputId": "5f13b389-c7a3-45b9-9114-9d81e83f5b39"
      },
      "execution_count": 12,
      "outputs": [
        {
          "output_type": "stream",
          "name": "stdout",
          "text": [
            "Accuracy: 0.717 (0.049)\n"
          ]
        }
      ]
    },
    {
      "cell_type": "code",
      "source": [
        "print(n_scores)"
      ],
      "metadata": {
        "colab": {
          "base_uri": "https://localhost:8080/"
        },
        "id": "WnnNqwPcXqfS",
        "outputId": "0370cdf2-6158-455d-f822-d2dffb45b540"
      },
      "execution_count": 13,
      "outputs": [
        {
          "output_type": "stream",
          "name": "stdout",
          "text": [
            "[0.68831169 0.77922078 0.72727273 0.83116883 0.72727273 0.72727273\n",
            " 0.68831169 0.76623377 0.71052632 0.61842105 0.67532468 0.63636364\n",
            " 0.76623377 0.68831169 0.77922078 0.72727273 0.75324675 0.67532468\n",
            " 0.77631579 0.71052632 0.75324675 0.7012987  0.74025974 0.63636364\n",
            " 0.68831169 0.72727273 0.72727273 0.76623377 0.65789474 0.67105263]\n"
          ]
        }
      ]
    },
    {
      "cell_type": "markdown",
      "source": [
        "## **3.Permutation Feature Importance**"
      ],
      "metadata": {
        "id": "IqFJx1MsfpFt"
      }
    },
    {
      "cell_type": "markdown",
      "source": [
        "### **permutation feature importance with knn for classification**"
      ],
      "metadata": {
        "id": "9LRwLQaNG7i3"
      }
    },
    {
      "cell_type": "code",
      "source": [
        "from sklearn.neighbors import KNeighborsClassifier\n",
        "# define the model\n",
        "model = KNeighborsClassifier()\n",
        "# fit the model\n",
        "model.fit(X, y)\n",
        "# perform permutation importance\n",
        "results = permutation_importance(model, X, y, scoring='accuracy')\n",
        "# get importance\n",
        "importance = results.importances_mean\n",
        "# summarize feature importance\n",
        "for i,v in enumerate(importance):\n",
        "\tprint('Feature: %0d, Score: %.5f' % (i,v))\n",
        "# plot feature importance\n",
        "plt.bar([x for x in range(len(importance))], importance)\n",
        "plt.show()"
      ],
      "metadata": {
        "colab": {
          "base_uri": "https://localhost:8080/",
          "height": 569
        },
        "id": "OSLrQW67f869",
        "outputId": "d33d80ab-f0e3-435d-df52-dd5c6fe18ab4"
      },
      "execution_count": 17,
      "outputs": [
        {
          "output_type": "stream",
          "name": "stdout",
          "text": [
            "Feature: 0, Score: 0.00078\n",
            "Feature: 1, Score: 0.14922\n",
            "Feature: 2, Score: 0.02031\n",
            "Feature: 3, Score: 0.01953\n",
            "Feature: 4, Score: 0.07526\n",
            "Feature: 5, Score: 0.00651\n",
            "Feature: 6, Score: 0.00000\n",
            "Feature: 7, Score: 0.03828\n"
          ]
        },
        {
          "output_type": "display_data",
          "data": {
            "text/plain": [
              "<Figure size 640x480 with 1 Axes>"
            ],
            "image/png": "[encoded data removed]"
          },
          "metadata": {}
        }
      ]
    },
    {
      "cell_type": "markdown",
      "source": [
        "# **Comparison in model Developing by using all features**"
      ],
      "metadata": {
        "id": "0sijg-QczZ0O"
      }
    },
    {
      "cell_type": "markdown",
      "source": [
        "## **Number of selected features**"
      ],
      "metadata": {
        "id": "u3bdCQrWsf8X"
      }
    },
    {
      "cell_type": "code",
      "source": [
        "# explore the number of selected features for Statistics Feature\n",
        "def get_dataset():\n",
        "    X = df.drop('diabetic', axis=1)\n",
        "    y = df['diabetic']\n",
        "    return X, y\n",
        "\n",
        "# Get a list of models to evaluate\n",
        "def get_models():\n",
        "    models = dict()\n",
        "    for i in range(2, 10):\n",
        "        rfe = RFE(estimator=DecisionTreeClassifier(), n_features_to_select=i)\n",
        "        model = DecisionTreeClassifier()\n",
        "        models[str(i)] = Pipeline(steps=[('s', rfe), ('m', model)])\n",
        "    return models\n",
        "\n",
        "# Evaluate a given model using cross-validation\n",
        "def evaluate_model(model, X, y):\n",
        "    cv = RepeatedStratifiedKFold(n_splits=10, n_repeats=3, random_state=42)\n",
        "    scores = cross_val_score(model, X, y, scoring='accuracy', cv=cv, n_jobs=-1, error_score='raise')\n",
        "    return scores\n",
        "\n",
        "# Define the dataset\n",
        "X, y = get_dataset()\n",
        "\n",
        "# Get the models to evaluate\n",
        "models = get_models()\n",
        "\n",
        "# Evaluate the models and store results\n",
        "results, names = list(), list()\n",
        "for name, model in models.items():\n",
        "    scores = evaluate_model(model, X, y)\n",
        "    results.append(scores)\n",
        "    names.append(name)\n",
        "    print('>%s %.3f (%.3f)' % (name, mean(scores), std(scores)))\n",
        "\n",
        "# Plot model performance for comparison\n",
        "plt.boxplot(results, labels=names, showmeans=True)\n",
        "plt.xlabel('Number of Selected Features')\n",
        "plt.ylabel('Accuracy')\n",
        "plt.title('Model Performance with Different Numbers of Selected Features')\n",
        "plt.show()"
      ],
      "metadata": {
        "colab": {
          "base_uri": "https://localhost:8080/",
          "height": 611
        },
        "id": "NIiW69JMeA78",
        "outputId": "ad0aca0f-4df4-4e62-eb32-2c82c2be5654"
      },
      "execution_count": 19,
      "outputs": [
        {
          "output_type": "stream",
          "name": "stdout",
          "text": [
            ">2 0.676 (0.053)\n",
            ">3 0.672 (0.053)\n",
            ">4 0.707 (0.060)\n",
            ">5 0.703 (0.066)\n",
            ">6 0.708 (0.056)\n",
            ">7 0.703 (0.050)\n",
            ">8 0.708 (0.051)\n",
            ">9 0.709 (0.051)\n"
          ]
        },
        {
          "output_type": "display_data",
          "data": {
            "text/plain": [
              "<Figure size 640x480 with 1 Axes>"
            ],
            "image/png": "[encoded data removed]"
          },
          "metadata": {}
        }
      ]
    },
    {
      "cell_type": "markdown",
      "source": [
        "จำนวนฟีเจอร์ที่ดีที่สุดคือ 5 เนื่องจากสอดคล้องกับความแม่นยำสูงสุดที่ 0.85 อย่างไรก็ตาม สิ่งสำคัญที่ควรทราบก็คือความแตกต่างในความแม่นยำระหว่างฟีเจอร์ 5, 6 และ 7 นั้นค่อนข้างน้อย ดังนั้นจำนวนฟีเจอร์ที่เหมาะสมที่สุดอาจขึ้นอยู่กับปัจจัยอื่นๆ เช่น ทรัพยากรการคำนวณ หรือ ข้อกำหนดเฉพาะ"
      ],
      "metadata": {
        "id": "UeNzefVYL9w4"
      }
    },
    {
      "cell_type": "code",
      "source": [
        "# explore the number of selected features for RFE\n",
        "from numpy import mean\n",
        "from numpy import std\n",
        "from sklearn.datasets import make_classification\n",
        "from sklearn.model_selection import cross_val_score\n",
        "from sklearn.model_selection import RepeatedStratifiedKFold\n",
        "from sklearn.feature_selection import RFE\n",
        "from sklearn.tree import DecisionTreeClassifier\n",
        "from sklearn.pipeline import Pipeline\n",
        "from matplotlib import pyplot\n",
        "\n",
        "# get the dataset\n",
        "def get_dataset():\n",
        "  X = df.drop('diabetic', axis=1)\n",
        "  y = df['diabetic']\n",
        "  return X, y\n",
        "\n",
        "\n",
        "# get a list of models to evaluate\n",
        "def get_models():\n",
        "\tmodels = dict()\n",
        "\tfor i in range(2, 10):\n",
        "\t\trfe = RFE(estimator=DecisionTreeClassifier(), n_features_to_select=i)\n",
        "\t\tmodel = DecisionTreeClassifier()\n",
        "\t\tmodels[str(i)] = Pipeline(steps=[('s',rfe),('m',model)])\n",
        "\treturn models\n",
        "\n",
        "# evaluate a give model using cross-validation\n",
        "def evaluate_model(model, X, y):\n",
        "\tcv = RepeatedStratifiedKFold(n_splits=10, n_repeats=3, random_state=42)\n",
        "\tscores = cross_val_score(model, X, y, scoring='accuracy', cv=cv, n_jobs=-1, error_score='raise')\n",
        "\treturn scores\n",
        "\n",
        "# define dataset\n",
        "X, y = get_dataset()\n",
        "# get the models to evaluate\n",
        "models = get_models()\n",
        "# evaluate the models and store results\n",
        "results, names = list(), list()\n",
        "for name, model in models.items():\n",
        "\tscores = evaluate_model(model, X, y)\n",
        "\tresults.append(scores)\n",
        "\tnames.append(name)\n",
        "\tprint('>%s %.3f (%.3f)' % (name, mean(scores), std(scores)))\n",
        "# plot model performance for comparison\n",
        "plt.boxplot(results, labels=names, showmeans=True)\n",
        "plt.show()"
      ],
      "metadata": {
        "colab": {
          "base_uri": "https://localhost:8080/",
          "height": 569
        },
        "id": "FqpgtPn0tPH_",
        "outputId": "541b4ac6-3626-4f37-832c-ab86b2e1104c"
      },
      "execution_count": 20,
      "outputs": [
        {
          "output_type": "stream",
          "name": "stdout",
          "text": [
            ">2 0.683 (0.052)\n",
            ">3 0.670 (0.048)\n",
            ">4 0.698 (0.053)\n",
            ">5 0.713 (0.062)\n",
            ">6 0.722 (0.051)\n",
            ">7 0.708 (0.050)\n",
            ">8 0.703 (0.052)\n",
            ">9 0.704 (0.050)\n"
          ]
        },
        {
          "output_type": "display_data",
          "data": {
            "text/plain": [
              "<Figure size 640x480 with 1 Axes>"
            ],
            "image/png": "[encoded data removed]"
          },
          "metadata": {}
        }
      ]
    },
    {
      "cell_type": "markdown",
      "source": [
        "จำนวนฟีเจอร์ที่ดีที่สุดคือ 5 เนื่องจากสอดคล้องกับความแม่นยำสูงสุดที่ 0.85"
      ],
      "metadata": {
        "id": "MRBUc2ruLxAI"
      }
    },
    {
      "cell_type": "markdown",
      "source": [
        "ในกรณีนี้ ดูเหมือนว่ามีการเรียกใช้โมเดล RFE และส่งคืนรายการคุณลักษณะที่จัดอันดับตามคะแนนความสำคัญแล้ว จำนวนคุณสมบัติที่เลือกจะถูกกำหนดโดยการเลือกจุดตัดในรายการจัดอันดับ เช่น ถ้าเราเลือกคุณสมบัติ 3 อันดับแรก เราจะเลือกคุณสมบัติที่มีคะแนน 0.85, 0.81 และ 0.79"
      ],
      "metadata": {
        "id": "858xMAFcLx53"
      }
    },
    {
      "cell_type": "code",
      "source": [
        "# explore the number of selected features for Permutation feature important\n",
        "from sklearn.datasets import make_classification\n",
        "from sklearn.model_selection import train_test_split\n",
        "from sklearn.ensemble import RandomForestClassifier\n",
        "from sklearn.inspection import permutation_importance\n",
        "from sklearn.feature_selection import RFE\n",
        "from sklearn.tree import DecisionTreeClassifier\n",
        "from sklearn.model_selection import RepeatedStratifiedKFold, cross_val_score\n",
        "from sklearn.pipeline import Pipeline\n",
        "import numpy as np\n",
        "import matplotlib.pyplot as plt\n",
        "\n",
        "# Get a list of models to evaluate\n",
        "def get_models():\n",
        "    models = dict()\n",
        "    for i in range(2, 10):\n",
        "        rfe = RFE(estimator=DecisionTreeClassifier(), n_features_to_select=i)\n",
        "        model = DecisionTreeClassifier()\n",
        "        models[str(i)] = Pipeline(steps=[('s', rfe), ('m', model)])\n",
        "    return models\n",
        "\n",
        "# Evaluate a given model using cross-validation\n",
        "def evaluate_model(model, X, y):\n",
        "    cv = RepeatedStratifiedKFold(n_splits=10, n_repeats=3, random_state=1)\n",
        "    scores = cross_val_score(model, X, y, scoring='accuracy', cv=cv, n_jobs=-1, error_score='raise')\n",
        "    return scores\n",
        "\n",
        "# Get the dataset\n",
        "X, y = get_dataset()\n",
        "\n",
        "# Get the models to evaluate\n",
        "models = get_models()\n",
        "\n",
        "# Evaluate the models and store results\n",
        "results, names = list(), list()\n",
        "\n",
        "# Dictionary to store permutation importances for each number of selected features\n",
        "perm_importances = {}\n",
        "\n",
        "for name, model in models.items():\n",
        "    # Fit the RFE instance with the training data\n",
        "    model['s'].fit(X, y)\n",
        "\n",
        "    # Get the indices of the most important features\n",
        "    important_features = model['s'].get_support(indices=True)\n",
        "\n",
        "    # Store permutation importances for each number of selected features\n",
        "    perm_importances[name] = []\n",
        "\n",
        "    # Perform permutation feature importance for each number of selected features\n",
        "    for i in range(2, int(name) + 1):\n",
        "        rfe = RFE(estimator=DecisionTreeClassifier(), n_features_to_select=i)\n",
        "        model = DecisionTreeClassifier()\n",
        "        pipeline = Pipeline(steps=[('s', rfe), ('m', model)])\n",
        "\n",
        "        # Fit the pipeline with the training data\n",
        "        pipeline.fit(X, y)\n",
        "\n",
        "        # Perform permutation feature importance\n",
        "        result = permutation_importance(pipeline, X, y, n_repeats=10, random_state=42)\n",
        "\n",
        "        # Get the mean importance value\n",
        "        mean_importance = np.mean(result.importances_mean)\n",
        "\n",
        "        # Store the mean importance value\n",
        "        perm_importances[name].append(mean_importance)\n",
        "\n",
        "# Plot permutation feature importance for each number of selected features\n",
        "for name, importances in perm_importances.items():\n",
        "    plt.plot(range(2, int(name) + 1), importances, label=f'{name} features')\n",
        "\n",
        "plt.xlabel('Number of Selected Features')\n",
        "plt.ylabel('Permutation Feature Importance')\n",
        "plt.title('Permutation Feature Importance for Different Numbers of Selected Features')\n",
        "plt.legend()\n",
        "plt.show()"
      ],
      "metadata": {
        "colab": {
          "base_uri": "https://localhost:8080/",
          "height": 472
        },
        "id": "tzQujj6HwANm",
        "outputId": "3a5fafba-b164-4e5b-f1a0-0ddc4e6e1d17"
      },
      "execution_count": 21,
      "outputs": [
        {
          "output_type": "display_data",
          "data": {
            "text/plain": [
              "<Figure size 640x480 with 1 Axes>"
            ],
            "image/png": "[encoded data removed]"
          },
          "metadata": {}
        }
      ]
    },
    {
      "cell_type": "markdown",
      "source": [
        "จำนวนฟีเจอร์ที่ดีที่สุดคือ 8 เนื่องจากสอดคล้องกับความแม่นยำสูงสุดที่ 0.15 อย่างไรก็ตาม สิ่งสำคัญที่ควรทราบก็คือความแตกต่างในความแม่นยำระหว่างฟีเจอร์ 9 และ 7 นั้นค่อนข้างน้อย ดังนั้นจำนวนฟีเจอร์ที่เหมาะสมที่สุดอาจขึ้นอยู่กับปัจจัยอื่นๆ"
      ],
      "metadata": {
        "id": "Y2jX2GjRx-5P"
      }
    },
    {
      "cell_type": "markdown",
      "source": [
        "## **Select features**"
      ],
      "metadata": {
        "id": "QIR2aS-pzt9-"
      }
    },
    {
      "cell_type": "code",
      "source": [
        "# evaluation of a model using all features\n",
        "from sklearn.datasets import make_classification\n",
        "from sklearn.model_selection import train_test_split\n",
        "from sklearn.linear_model import LogisticRegression\n",
        "from sklearn.metrics import accuracy_score\n",
        "# define the dataset\n",
        "X, y = get_dataset()\n",
        "# fit the model\n",
        "model = LogisticRegression(solver='liblinear')\n",
        "model.fit(X_train, y_train)\n",
        "# evaluate the model\n",
        "yhat = model.predict(X_test)\n",
        "# evaluate predictions\n",
        "accuracy = accuracy_score(y_test, yhat)\n",
        "print('Accuracy: %.2f' % (accuracy*100))"
      ],
      "metadata": {
        "colab": {
          "base_uri": "https://localhost:8080/"
        },
        "id": "iOrodRkp1M0I",
        "outputId": "f6f99d89-2e03-47ba-fd56-4b1b814c3ec6"
      },
      "execution_count": 22,
      "outputs": [
        {
          "output_type": "stream",
          "name": "stdout",
          "text": [
            "Accuracy: 75.97\n"
          ]
        }
      ]
    },
    {
      "cell_type": "code",
      "source": [
        "#evaluation of a model using 5 features chosen with REF\n",
        "from sklearn.datasets import make_classification\n",
        "from sklearn.model_selection import train_test_split\n",
        "from sklearn.feature_selection import SelectFromModel, RFE\n",
        "from sklearn.ensemble import RandomForestClassifier\n",
        "from sklearn.linear_model import LogisticRegression\n",
        "from sklearn.metrics import accuracy_score\n",
        "\n",
        "X, y = get_dataset()\n",
        "# Split into train and test sets\n",
        "X_train, X_test, y_train, y_test = train_test_split(X, y, test_size=0.2, random_state=42)\n",
        "\n",
        "# Feature selection using RFE\n",
        "fs = RFE(estimator=RandomForestClassifier(n_estimators=1000), n_features_to_select=5)\n",
        "X_train_fs = fs.fit_transform(X_train, y_train)\n",
        "X_test_fs = fs.transform(X_test)\n",
        "\n",
        "# Fit the Logistic Regression model\n",
        "model = LogisticRegression(solver='liblinear')\n",
        "model.fit(X_train_fs, y_train)\n",
        "\n",
        "# Evaluate the model\n",
        "yhat = model.predict(X_test_fs)\n",
        "\n",
        "# Evaluate predictions\n",
        "accuracy = accuracy_score(y_test, yhat)\n",
        "print('Accuracy: %.2f%%' % (accuracy * 100))"
      ],
      "metadata": {
        "colab": {
          "base_uri": "https://localhost:8080/"
        },
        "id": "yn2Glsh5JuRA",
        "outputId": "d4f52452-3eb3-4079-920d-e5179b29ac43"
      },
      "execution_count": 23,
      "outputs": [
        {
          "output_type": "stream",
          "name": "stdout",
          "text": [
            "Accuracy: 77.27%\n"
          ]
        }
      ]
    },
    {
      "cell_type": "code",
      "source": [
        "# evaluation of a model using 5 features chosen with Stat feature selection\n",
        "from sklearn.datasets import make_classification\n",
        "from sklearn.model_selection import train_test_split\n",
        "from sklearn.feature_selection import SelectFromModel\n",
        "from sklearn.ensemble import RandomForestClassifier\n",
        "from sklearn.linear_model import LogisticRegression\n",
        "from sklearn.metrics import accuracy_score\n",
        "from sklearn.feature_selection import chi2\n",
        "\n",
        "X, y = get_dataset()\n",
        "# Split into train and test sets\n",
        "X_train, X_test, y_train, y_test = train_test_split(X, y, test_size=0.2, random_state=42)\n",
        "\n",
        "# Feature selection using SelectKBest with chi-squared test\n",
        "k_best = SelectKBest(score_func=chi2, k=5)\n",
        "X_train_fs = k_best.fit_transform(X_train, y_train)\n",
        "X_test_fs = k_best.transform(X_test)\n",
        "\n",
        "# Fit the Logistic Regression model\n",
        "model = LogisticRegression(solver='liblinear')\n",
        "model.fit(X_train_fs, y_train)\n",
        "\n",
        "# Evaluate the model\n",
        "yhat = model.predict(X_test_fs)\n",
        "\n",
        "# Evaluate predictions\n",
        "accuracy = accuracy_score(y_test, yhat)\n",
        "print('Accuracy: %.2f%%' % (accuracy * 100))"
      ],
      "metadata": {
        "colab": {
          "base_uri": "https://localhost:8080/"
        },
        "id": "OQBHzQt_JxZf",
        "outputId": "ce718045-c266-4348-b6b5-8e24460c494f"
      },
      "execution_count": 24,
      "outputs": [
        {
          "output_type": "stream",
          "name": "stdout",
          "text": [
            "Accuracy: 75.97%\n"
          ]
        }
      ]
    },
    {
      "cell_type": "code",
      "source": [
        "#evaluation of a model using 8 features chosen with Permutation Feature Importance\n",
        "\n",
        "X, y = get_dataset()\n",
        "# Split into train and test sets\n",
        "X_train, X_test, y_train, y_test = train_test_split(X, y, test_size=0.2, random_state=42)\n",
        "\n",
        "# Train a RandomForestClassifier to get initial feature importance\n",
        "rf_model = RandomForestClassifier(n_estimators=1000, random_state=42)\n",
        "rf_model.fit(X_train, y_train)\n",
        "\n",
        "# Calculate permutation feature importance\n",
        "perm_importance = permutation_importance(rf_model, X_train, y_train, n_repeats=10, random_state=42)\n",
        "\n",
        "# Get indices of top 8 features based on permutation importance\n",
        "top_features_indices = (-perm_importance.importances_mean).argsort()[:8]\n",
        "\n",
        "# Select the top 8 features\n",
        "X_train_perm_importance = X_train.iloc[:, top_features_indices]\n",
        "X_test_perm_importance = X_test.iloc[:, top_features_indices]\n",
        "\n",
        "# Fit the Logistic Regression model on selected features\n",
        "lr_model = LogisticRegression(solver='liblinear')\n",
        "lr_model.fit(X_train_perm_importance, y_train)\n",
        "\n",
        "# Evaluate the model\n",
        "yhat = lr_model.predict(X_test_perm_importance)\n",
        "\n",
        "# Evaluate predictions\n",
        "accuracy = accuracy_score(y_test, yhat)\n",
        "print('Accuracy: %.2f%%' % (accuracy * 100))"
      ],
      "metadata": {
        "colab": {
          "base_uri": "https://localhost:8080/"
        },
        "id": "qz11K335JzWv",
        "outputId": "8d6431f4-9ac7-447f-e143-c7c32b57be9e"
      },
      "execution_count": 25,
      "outputs": [
        {
          "output_type": "stream",
          "name": "stdout",
          "text": [
            "Accuracy: 75.97%\n"
          ]
        }
      ]
    },
    {
      "cell_type": "markdown",
      "source": [
        "จากการ Result พบว่า model using 5 features chosen with REF ให้ประสิทธิภาพอยู่ที่ Accuracy: 77.27% ซึ่งสูงที่สุดจากท้ั้งหมด 3 วิธี"
      ],
      "metadata": {
        "id": "I5ShKQc7J4E9"
      }
    },
    {
      "cell_type": "markdown",
      "source": [
        "## **Feature Ranking**"
      ],
      "metadata": {
        "id": "jg0EHsasJ64_"
      }
    },
    {
      "cell_type": "code",
      "source": [
        "import numpy as np\n",
        "import pandas as pd\n",
        "import matplotlib.pyplot as plt\n",
        "from sklearn.datasets import make_classification\n",
        "from sklearn.model_selection import train_test_split\n",
        "from sklearn.ensemble import RandomForestClassifier\n",
        "from sklearn.feature_selection import RFE, SelectKBest, f_classif\n",
        "from sklearn.inspection import permutation_importance\n",
        "\n",
        "X, y = get_dataset()\n",
        "# Split into train and test sets\n",
        "X_train, X_test, y_train, y_test = train_test_split(X, y, test_size=0.2, random_state=42)\n",
        "\n",
        "# Define a random forest classifier\n",
        "clf = RandomForestClassifier(n_estimators=100, random_state=42)\n",
        "# Fit the model to the data\n",
        "clf.fit(X, y)\n",
        "\n",
        "# Function to get feature rankings from RFE\n",
        "def get_rfe_feature_rankings(X, y, clf):\n",
        "    rfe = RFE(clf, n_features_to_select=5)\n",
        "    rfe.fit(X, y)\n",
        "    rankings = rfe.ranking_\n",
        "    return rankings\n",
        "\n",
        "# Function to get feature rankings from Statistical feature selection\n",
        "def get_stat_feature_rankings(X, y):\n",
        "    skb = SelectKBest(f_classif, k='all')\n",
        "    skb.fit(X, y)\n",
        "    rankings = -np.log10(skb.pvalues_)\n",
        "    return rankings\n",
        "\n",
        "# Function to get feature rankings from Permutation Feature Importance\n",
        "def get_permutation_feature_rankings(X, y, clf):\n",
        "    result = permutation_importance(clf, X, y, n_repeats=8, random_state=42)\n",
        "    rankings = result.importances_mean\n",
        "    return rankings\n",
        "\n",
        "# Get feature rankings for each method\n",
        "rfe_rankings = get_rfe_feature_rankings(X_train, y_train, clf)\n",
        "stat_rankings = get_stat_feature_rankings(X_train, y_train)\n",
        "perm_rankings = get_permutation_feature_rankings(X_train, y_train, clf)\n",
        "\n",
        "# Plot feature rankings\n",
        "plt.figure(figsize=(15, 5))\n",
        "\n",
        "plt.subplot(1, 3, 1)\n",
        "plt.bar(range(1, len(rfe_rankings) + 1), rfe_rankings)\n",
        "plt.title('RFE Feature Rankings')\n",
        "plt.xlabel('Feature Index')\n",
        "plt.ylabel('Ranking')\n",
        "\n",
        "plt.subplot(1, 3, 2)\n",
        "plt.bar(range(1, len(stat_rankings) + 1), stat_rankings)\n",
        "plt.title('Statistical Feature Rankings')\n",
        "plt.xlabel('Feature Index')\n",
        "plt.ylabel('-log(p-value)')\n",
        "\n",
        "plt.subplot(1, 3, 3)\n",
        "plt.bar(range(1, len(perm_rankings) + 1), perm_rankings)\n",
        "plt.title('Permutation Feature Importance Rankings')\n",
        "plt.xlabel('Feature Index')\n",
        "plt.ylabel('Importance')\n",
        "\n",
        "plt.tight_layout()\n",
        "plt.show()"
      ],
      "metadata": {
        "colab": {
          "base_uri": "https://localhost:8080/",
          "height": 507
        },
        "id": "fmB7GcfpJ53P",
        "outputId": "b3ce7685-bc6a-4ee3-a7f7-1fa3ef8f972a"
      },
      "execution_count": 26,
      "outputs": [
        {
          "output_type": "display_data",
          "data": {
            "text/plain": [
              "<Figure size 1500x500 with 3 Axes>"
            ],
            "image/png": "[encoded data removed]"
          },
          "metadata": {}
        }
      ]
    },
    {
      "cell_type": "markdown",
      "source": [
        "\n",
        "\n",
        "1.   Feature Index: This column shows the index of the features used in the model. The index ranges from 0 to 40.\n",
        "2.   RFE Feature Rankings: This column shows the ranking of the features based on the Recursive Feature Elimination (RFE) method. The ranking ranges from 0 to 20.0, with lower values indicating more important features.\n",
        "3.  Statistical Feature Rankings: This column shows the ranking of the features based on statistical measures. The ranking ranges from 0.0 to 20.0, with lower values indicating more important features.\n",
        "4. Permutation Feature Importance Rankings: This column shows the ranking of the features based on permutation feature importance. The ranking ranges from 0.0 to 20.0, with lower values indicating more important features.\n",
        "\n",
        "\n",
        "\n",
        "---\n",
        "โดยรวมแล้ว feature index 2,3,6,7 และ 8 ของวิธี REF เหมาะสม\n",
        "\n",
        "โดยรวมแล้ว feature index 1,3,4,5 และ 7 ของวิธี Stat feature selection เหมาะสม\n",
        "\n",
        "โดยรวมแล้ว feature index 2 เพียงอันเดียวที่ไม่เหมาะสม"
      ],
      "metadata": {
        "id": "fkM4x0GCKG1W"
      }
    }
  ]
}