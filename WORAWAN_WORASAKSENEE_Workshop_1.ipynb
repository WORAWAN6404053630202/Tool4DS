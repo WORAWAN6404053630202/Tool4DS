{
  "nbformat": 4,
  "nbformat_minor": 0,
  "metadata": {
    "colab": {
      "provenance": [],
      "authorship_tag": "ABX9TyOLzrtTB+FVct+5u0PtplSu",
      "include_colab_link": true
    },
    "kernelspec": {
      "name": "python3",
      "display_name": "Python 3"
    },
    "language_info": {
      "name": "python"
    }
  },
  "cells": [
    {
      "cell_type": "markdown",
      "metadata": {
        "id": "view-in-github",
        "colab_type": "text"
      },
      "source": [
        "<a href=\"https://colab.research.google.com/github/WORAWAN6404053630202/Tool4DS/blob/main/WORAWAN_WORASAKSENEE_Workshop_1.ipynb\" target=\"_parent\"><img src=\"https://colab.research.google.com/assets/colab-badge.svg\" alt=\"Open In Colab\"/></a>"
      ]
    },
    {
      "cell_type": "code",
      "source": [
        "## Install chromium-chromedriver\n",
        "!apt-get install -y chromium-chromedriver\n",
        "\n",
        "## Install selenium & beautifulsoup4\n",
        "!pip install selenium\n",
        "!pip install beautifulsoup4\n"
      ],
      "metadata": {
        "colab": {
          "base_uri": "https://localhost:8080/"
        },
        "id": "-If_wekluBuu",
        "outputId": "59476eb2-8988-4f70-afcb-fe52bd4279a1"
      },
      "execution_count": null,
      "outputs": [
        {
          "output_type": "stream",
          "name": "stdout",
          "text": [
            "Reading package lists... Done\n",
            "Building dependency tree... Done\n",
            "Reading state information... Done\n",
            "chromium-chromedriver is already the newest version (1:85.0.4183.83-0ubuntu2.22.04.1).\n",
            "0 upgraded, 0 newly installed, 0 to remove and 23 not upgraded.\n",
            "Requirement already satisfied: selenium in /usr/local/lib/python3.10/dist-packages (4.16.0)\n",
            "Requirement already satisfied: urllib3[socks]<3,>=1.26 in /usr/local/lib/python3.10/dist-packages (from selenium) (2.0.7)\n",
            "Requirement already satisfied: trio~=0.17 in /usr/local/lib/python3.10/dist-packages (from selenium) (0.23.2)\n",
            "Requirement already satisfied: trio-websocket~=0.9 in /usr/local/lib/python3.10/dist-packages (from selenium) (0.11.1)\n",
            "Requirement already satisfied: certifi>=2021.10.8 in /usr/local/lib/python3.10/dist-packages (from selenium) (2023.11.17)\n",
            "Requirement already satisfied: attrs>=20.1.0 in /usr/local/lib/python3.10/dist-packages (from trio~=0.17->selenium) (23.1.0)\n",
            "Requirement already satisfied: sortedcontainers in /usr/local/lib/python3.10/dist-packages (from trio~=0.17->selenium) (2.4.0)\n",
            "Requirement already satisfied: idna in /usr/local/lib/python3.10/dist-packages (from trio~=0.17->selenium) (3.6)\n",
            "Requirement already satisfied: outcome in /usr/local/lib/python3.10/dist-packages (from trio~=0.17->selenium) (1.3.0.post0)\n",
            "Requirement already satisfied: sniffio>=1.3.0 in /usr/local/lib/python3.10/dist-packages (from trio~=0.17->selenium) (1.3.0)\n",
            "Requirement already satisfied: exceptiongroup in /usr/local/lib/python3.10/dist-packages (from trio~=0.17->selenium) (1.2.0)\n",
            "Requirement already satisfied: wsproto>=0.14 in /usr/local/lib/python3.10/dist-packages (from trio-websocket~=0.9->selenium) (1.2.0)\n",
            "Requirement already satisfied: pysocks!=1.5.7,<2.0,>=1.5.6 in /usr/local/lib/python3.10/dist-packages (from urllib3[socks]<3,>=1.26->selenium) (1.7.1)\n",
            "Requirement already satisfied: h11<1,>=0.9.0 in /usr/local/lib/python3.10/dist-packages (from wsproto>=0.14->trio-websocket~=0.9->selenium) (0.14.0)\n",
            "Requirement already satisfied: beautifulsoup4 in /usr/local/lib/python3.10/dist-packages (4.11.2)\n",
            "Requirement already satisfied: soupsieve>1.2 in /usr/local/lib/python3.10/dist-packages (from beautifulsoup4) (2.5)\n"
          ]
        }
      ]
    },
    {
      "cell_type": "code",
      "execution_count": null,
      "metadata": {
        "colab": {
          "base_uri": "https://localhost:8080/"
        },
        "id": "yDxZvODRjSiX",
        "outputId": "ab0e367c-bc80-4e3b-9ad4-0f0e84244b15"
      },
      "outputs": [
        {
          "output_type": "stream",
          "name": "stdout",
          "text": [
            "พระเอก นางเอก 10 ท่าน ของช่อง 3 ที่ละครใหม่ ขายโฆษณาได้แน่นอน เพื่อนๆคิดว่า มีใครบ้างคะ3 HD (BEC)ละครโทรทัศน์สมาชิกหมายเลข 76088491 ชั่วโมงmessage3add_box0โบกอม มาลงรูปคู่ ลิซ่า  ในไอจี ตอนงาน CELINE store re-opening ที่ สยามพารากอนPark Bo Gumลลิษา มโนบาล (ลลิส)K-POPสมาชิกหมายเลข 68905032 ชั่วโมงmessage9add_box8เซ็ต3สุพรีมวอลเลย์บอลสมาชิกหมายเลข 70213641 ชั่วโมงmessage11add_box0ลดเพดานดอกเบี้ยไม่เกิน 4.75%การลงทุนการเงินการออมเงินมนุษย์เงินเดือนสินเชื่อธุรกิจสมาชิกหมายเลข 16481012 ชั่วโมงmessage5add_box0รับซื้อคอนโด สำหรับคนมี่ผ่อนไม่ไหว??คอนโดมิเนียมสินเชื่อเพื่อที่อยู่อาศัยงานขายอสังหาริมทรัพย์ธุรกิจอสังหาริมทรัพย์สมาชิกหมายเลข 49722774 ชั่วโมงmessage6add_box0โดนแกล้งเอาชื่อไปใส่ในเว็บคนโกงทำไงดีคะปัญหาชีวิตธุรกรรมออนไลน์สมาชิกหมายเลข 29830002 ชั่วโมงmessage10add_box1ข่าวดี! เพื่อนๆ สามารถสร้างรายได้ไปพร้อมกับใช้งาน Pantip ได้แล้วนะวิธีการใช้งานพันทิปGoogle AdSenseฝ่ายสมาชิกสัมพันธ์17 ต.ค.message633add_box102รับงานเดี่ยว ปล่อยโซโล่  เปิดค่ายเองทุกคนเถอะBLACKPINK (นักร้องนักดนตรี)ลลิษา มโนบาล (ลลิส)YG EntertainmentK-POPสมาชิกหมายเลข 77090142 ชั่วโมงmessage15add_box0เวลา 12.00 น ประเภททีมหญิง นครนนท์ พบ สุพรีม ทิพย ชลบุรี - อี.เทค (รอเชียร์ โค้ช Gift)วอลเลย์บอลnongmoss2 ชั่วโมงmessage68add_box0หลังปีใหม่ ฝรั่งจะกลับมาขายหุ้นต่อหุ้นสมาชิกหมายเลข 43963973 ชั่วโมงmessage5add_box0เพื่อนบอกว่าของทุกอย่าง อเมริกา กับ ยุโรป     ดีกว่าแบรนด์เอเชียอยู่แล้ว ทำไมโดนหัวเราะครับเครื่องใช้ไฟฟ้าเทคโนโลยีวิศวกรรถยนต์อุปกรณ์เครื่องใช้ภายในบ้านสมาชิกหมายเลข 77584073 ชั่วโมงmessage25add_box0วี๊ดดดดด เพิ่งทราบ ละคร มนตราฟ้าฟื้น ลดงบทุนสร้าง - รวบรัดตัดจบมนตราฟ้าฟื้น (ละคร)ละครโทรทัศน์7 HDสมาชิกหมายเลข 78755173 ชั่วโมงmessage11add_box4เช้าวันหยุด กับวันที่อากาศหนาวๆเย็นๆ 13องศา ดริปกาแฟสดร้อนๆเที่ยวภูเขาเที่ยวไทยสถานที่ท่องเที่ยวภาพถ่ายทิวทัศน์หุ้นสมาชิกหมายเลข 29332663 ชั่วโมงmessage10add_box0[NEWS][24DEC23][BLACKPINK]🖤💗ข่าวความเคลื่อนไหประจำวันที่ 24 ธันวาคม 2566BLACKPINK (นักร้องนักดนตรี)K-POPลลิษา มโนบาล (ลลิส)BlinkBoy4 ชั่วโมงmessage16add_box1มาเชียร์สาว D2 กันจ้าวอลเลย์บอลHIENE25264 ชั่วโมงmessage16add_box0มีเพื่อนร่วมงานถามว่า ไม่ไปเลือกตั้ง ประกันสังคม จะโดนอะไรไหมมนุษย์เงินเดือนสำนักงานประกันสังคมสมาชิกหมายเลข 789709519 ธ.ค.message19add_box0โรดโชว์แฟชั่นเมื่อวานนี้ กับการแว้บไปดูอิงค์-วรันธรมิโอริ โอคุโบะ (มิโอริ BNK48)ณัฐทิชา จันทรวารีเลขา (ฟ้อนด์ BNK48)วีรยา จาง (วี BNK48)BNK48สมาชิกหมายเลข 39151064 ชั่วโมงmessage3add_box0หรือ? ละครตระกูลเรือนของช่องวันจะใช่ #เรือนกาลเวกOne31รายการโทรทัศน์ละครโทรทัศน์สมาชิกหมายเลข 782164019 ชั่วโมงmessage7add_box0Jennie คอนเฟิร์ม! เปิดค่าย 'ODD ATELIER' ของตัวเองK-POPBLACKPINK (นักร้องนักดนตรี)ข้อเสนอแนะถึงพันทิปPaint it Black3 ชั่วโมงmessage33add_box12วาเลนตินร้องไห้ละนะวอลเลย์บอลสมาชิกหมายเลข 76351324 ชั่วโมงmessage12add_box0คุณคิดว่ารถไฟฟ้า BYD จะสามารถเจาะตลาดญี่ปุ่นได้ดังหวังไหม ?การตลาดรถยนต์BYDรถยนต์ไฟฟ้าการลงทุนstardom23 ธ.ค.message42add_box0เกิดมา20ปี ไม่เคยมีใครมาทำอย่างนี้กับหนูCGM48สมาชิกหมายเลข 743110418 ธ.ค.message18add_box0[ชาวเรือหมวกฟางมีเฮ!] One Piece ประกาศรีเมคอนิเมะ โดย WIT STUDIO เตรียมออกเรือสู่ตลาดโลกวันพีซ One pieceอนิเมะJ-POPมังงะสมาชิกหมายเลข 305015117 ธ.ค.message16add_box3😇😇😇😇......๙ แล้ว  ๖  ๖  แล้ว ๙   ...เลือก ส.ค.ส.ได้ ๑ ใบ จะเลือกใบไหน ..   😇😇😇😇เรื่องเล่าจากผู้สูงอายุหุ้นเจ้าของธุรกิจมนุษย์เงินเดือนแท็บเล็ตendophine6 ชั่วโมงmessage9add_box0คุณคิดว่าปี 2023 นี้ละครเรื่องไหนสนุกสุด???BEC (ช่อง 3)7 HDOne31ช่อง 8ละครเวทีสมาชิกหมายเลข 781680612 ชั่วโมงmessage39add_box0โปรแกรม และ รายงานผล วอลเลย์บอล ไทยลีก ประจำวันที่ 24 ธันวาคม 2566กีฬาวอลเลย์บอลสมาชิกหมายเลข 393349812 ชั่วโมงmessage5add_box0Stray Kids จะเข้าร่วมงาน Gala Des Pièces Jaunes ปี 2024Stray Kids (นักร้องนักดนตรี)K-POPJYP Entertainmentนักร้องนักดนตรีเกาหลีสมาชิกหมายเลข 66066605 ชั่วโมงmessage6add_box1!! เร็วมากกก หาเงินจากพันทิป 2 วัน ได้มาเท่านี้แล้ววPart TimeFreelanceการทำงานออนไลน์มนุษย์เงินเดือนการเงินสมาชิกหมายเลข 79014056 ชั่วโมงmessage32add_box0สลับยางรถยนต์ จำเป็นต้องตั้งศูนย์ถ่วงล้อทุกครั้งไหมคะซ่อมบำรุงรถยนต์ดูแลรักษารถยนต์ยางรถยนต์ศูนย์บริการรถยนต์อู่ซ่อมรถสมาชิกหมายเลข 787271820 ธ.ค.message45add_box1รถไฟฟ้าสายสีชมพูเปิดไม่ทันไร ข้างในมีพวกมือบอนมาขีดเขียนเล่นซะแล้วรถไฟฟ้า MRTปัญหาสังคมvoice from hell17 ชั่วโมงmessage18add_box0วากัสก็ทำไม่ได้ บอสอย่าหวังเลยทำแบบนี้ไม่ได้หรอกวอลเลย์บอลนางในห้องเครื่อง6 ชั่วโมงmessage12add_box0ทำไมต้อง \"ใจป้ำ\" ซื้อของกลับ แค่ออกมา \"แสดงความบริสุทธิ์ใจและหลักฐาน\" ให้กลุ่มผู้เสียหายรู้ ดาราตะวันออกกลางเตือนภัยรายการข่าวนักแสดงไทยปัญหาสังคมข่าวบันเทิงสมาชิกหมายเลข 79015737 ชั่วโมงmessage9add_box0เพลงคุกกี้ร้องดังตอนตีหนึ่ง แสนสุดซึ้งแฟนๆไม่หนีหาย ผ้าเช็ดหน้าทำตกใจละลายBNK48คริสติน่า อากีล่าร์ (ติ๊นา)สุรัตนาวี สุวิพร (โบ)วงดนตรีบอย โกสิยพงษ์สมาชิกหมายเลข 75529626 ชั่วโมงmessage14add_box0ช่อง3ไม่ให้นักแสดงอิสระที่มาจากช่องอื่นมารับบทนำหรือนางเอกของช่องแล้วเหรอเห็นแต่ก่อนช่อง3ถนัดมาก3 HD (BEC)ละครโทรทัศน์นักแสดงสมาชิกหมายเลข 78829398 ชั่วโมงmessage20add_box0หวานมากกกboys over flowersเวอชั่นมิลาโน่เว่อเว่อ😍วอลเลย์บอลสมาชิกหมายเลข 644059115 ชั่วโมงmessage9add_box0เจ้าหน้าที่รัฐ ตามจีบตามคุกคาม ค้นทะเบียนราษฎร์ หาที่อยู่ ส่งของมา โดยไม่ได้รับอนุญาติเเจ้งข้อหาอะไรได้บ้างกฎหมายชาวบ้านร้องทุกข์สมาชิกหมายเลข 58507028 ชั่วโมงmessage17add_box0231224 - LALISA DAILY NEWS 😍 ลิซ่า 🧡 #LISA #BLACKPINKลลิษา มโนบาล (ลลิส)BLACKPINK (นักร้องนักดนตรี)K-POPLisaCool7 ชั่วโมงmessage16add_box2จองตั๋วแอร์เอเชียต้องระวังAir Asiaเที่ยวต่างประเทศa n t i e a n t i k a22 ธ.ค.message20add_box2ย้อนอดีต ละคร \"ปีหนึ่งเพื่อนกันและ(วันอัศจรรย์)ของผม\"BBTV (ช่อง 7)ละครโทรทัศน์สมชาย เข็มกลัด (เต๋า)ธนา สุทธิกมล (ออย)แอน ทองประสมสมาชิกหมายเลข 12642287 ธ.ค. 2557message14add_box2ประเทศไหนเน็ตถูกกว่าไทยบ้างครับ ?4GMobile InternetRoamingคนไทยในต่างแดนเที่ยวต่างประเทศสมาชิกหมายเลข 433995519 ธ.ค.message19add_box0Ψ ☀ ดวงวันนี้  24 ธันวาคม​  พ.ศ. 2566 โดย อ.วร กระดานโหรฯ ☀ 卐  ♈♉♊♋♌♍♎♏♐♑♒♓โหราศาสตร์จากนี้ตลอดไป16 ชั่วโมงmessage5add_box10ลุ้นรับฟรี Ultra Facial Cream จาก Kiehl’s 300 รางวัล เพียงแชร์ปัญหาผิวขาดความชุ่มชื้นกิจกรรมพันทิปความงามSkin Careผลิตภัณฑ์ดูแลผิวKiehl'sPantip Happy Prize4 ธ.ค.message405add_box13เล่าให้ฟังหน่อย เรื่องเพชรพระอุมา เป็นเรื่องราวของอะไร ทำใมมีแต่คนอยากให้ทำเป็นละครกันนักละครออนไลน์ละครโทรทัศน์เพชรพระอุมานิยายสมาชิกหมายเลข 785923522 ธ.ค.message29add_box0อิชิอิ มาดู ชล - เมืองทอง เห็นแล้วเอานักเตะคนนี้ไปแทนมุ้ยที่ถอนตัวเถอะครับฟุตบอลฟุตบอลไทยสโมสรฟุตบอลไทยสมาชิกหมายเลข 677380219 ชั่วโมงmessage8add_box0ครบรอล 19 ปี \"สึนามิ\" คลื่นยักษ์ถล่มชายฝั่งอันดามันและภารกิจ\"พาน้องกลับบ้าน\"  ไม่รู้สิ่งลี้ลับดลใจหรือความบังเอิญภาคใต้จังหวัดกระบี่เรื่องเล่าจากผู้สูงอายุคนไทยในอเมริกาสมาชิกหมายเลข 115806810 ชั่วโมงmessage9add_box0สมมุติมว่าถ้าต้องการโอนเงิน 6 ล้าน จาก บช. 1 ไปยัง บช. 2 (ธนาคารเดียวกันปริมณฑลทั้งคู่) มีวิธีในแนะนำบ้างครับธนาคารเช็ค (Cheque)ธุรกรรมทางการเงินสมาชิกหมายเลข 123223316 ชั่วโมงmessage7add_box0ฟ้องเอาค่าแรง โดนฟ้องกลับ 4 แสน บาท😅กฎหมายชาวบ้านทรัพยากรบุคคลสมาชิกหมายเลข 790416910 ชั่วโมงmessage23add_box0ประสบการณ์ชีวิตที่คบ ผู้หญิงขายบริการประสบการณ์ชีวิตคู่ปัญหาชีวิตประสบการณ์ความรักปัญหาความรักสมาชิกหมายเลข 59868429 ชั่วโมงmessage22add_box0ใคร คือ นางร้าย แห่งปี 2023 ???7 HDช่อง 8One313 HD (BEC)ละครโทรทัศน์น้องริวคุง18 ชั่วโมงmessage12add_box0รวมมีม ขุนค้อนทุบบัส 2-0สโมสรฟุตบอลอังกฤษฟุตบอลต่างประเทศPremier League (League)สมาชิกหมายเลข 558826911 ชั่วโมงmessage17add_box16\n"
          ]
        }
      ],
      "source": [
        "from selenium import webdriver\n",
        "from bs4 import BeautifulSoup\n",
        "\n",
        "chrome_options = webdriver.ChromeOptions()\n",
        "chrome_options.add_argument(\"--verbose\")\n",
        "chrome_options.add_argument('--headless')\n",
        "chrome_options.add_argument('--no-sandbox')\n",
        "chrome_options.add_argument('--disable-gpu')\n",
        "chrome_options.add_argument('--disable-dev-shm-usage')\n",
        "chrome_options.add_argument(\"--window-size=1920, 1200\")\n",
        "\n",
        "driver = webdriver.Chrome(options=chrome_options)\n",
        "\n",
        "url = \"https://pantip.com/home/hitz\"\n",
        "\n",
        "driver.get(url)\n",
        "\n",
        "html = driver.page_source\n",
        "\n",
        "driver.quit()\n",
        "\n",
        "soup = BeautifulSoup(html, \"html.parser\")\n",
        "\n",
        "# Assuming soup is your BeautifulSoup object\n",
        "elements = soup.find_all(\"ul\", class_=\"pt-list pt-list__type-a pt-list-item__full-title pt-list-item__hide-stats-vote\")\n",
        "\n",
        "# Process or print the elements as needed\n",
        "for element in elements:\n",
        "    print(element.text)"
      ]
    },
    {
      "cell_type": "code",
      "source": [
        "import pandas as pd\n",
        "from io import StringIO\n",
        "\n",
        "df = pd.read_csv(StringIO(element.text), delimiter=' ')\n",
        "\n",
        "print(df)"
      ],
      "metadata": {
        "colab": {
          "base_uri": "https://localhost:8080/"
        },
        "id": "tVwv38qYubnt",
        "outputId": "aec2a00d-e1b4-4284-d994-7cb3e91e8a67"
      },
      "execution_count": null,
      "outputs": [
        {
          "output_type": "stream",
          "name": "stdout",
          "text": [
            "Empty DataFrame\n",
            "Columns: [พระเอก, นางเอก, 10, ท่าน, ของช่อง, 3, ที่ละครใหม่, ขายโฆษณาได้แน่นอน, เพื่อนๆคิดว่า, มีใครบ้างคะ3, HD, (BEC)ละครโทรทัศน์สมาชิกหมายเลข, 76088491, ชั่วโมงmessage3add_box0โบกอม, มาลงรูปคู่, ลิซ่า, Unnamed: 16, ในไอจี, ตอนงาน, CELINE, store, re-opening, ที่, สยามพารากอนPark, Bo, Gumลลิษา, มโนบาล, (ลลิส)K-POPสมาชิกหมายเลข, 68905032, ชั่วโมงmessage9add_box8เซ็ต3สุพรีมวอลเลย์บอลสมาชิกหมายเลข, 70213641, ชั่วโมงmessage11add_box0ลดเพดานดอกเบี้ยไม่เกิน, 4.75%การลงทุนการเงินการออมเงินมนุษย์เงินเดือนสินเชื่อธุรกิจสมาชิกหมายเลข, 16481012, ชั่วโมงmessage5add_box0รับซื้อคอนโด, สำหรับคนมี่ผ่อนไม่ไหว??คอนโดมิเนียมสินเชื่อเพื่อที่อยู่อาศัยงานขายอสังหาริมทรัพย์ธุรกิจอสังหาริมทรัพย์สมาชิกหมายเลข, 49722774, ชั่วโมงmessage6add_box0โดนแกล้งเอาชื่อไปใส่ในเว็บคนโกงทำไงดีคะปัญหาชีวิตธุรกรรมออนไลน์สมาชิกหมายเลข, 29830002, ชั่วโมงmessage10add_box1ข่าวดี!, เพื่อนๆ, สามารถสร้างรายได้ไปพร้อมกับใช้งาน, Pantip, ได้แล้วนะวิธีการใช้งานพันทิปGoogle, AdSenseฝ่ายสมาชิกสัมพันธ์17, ต.ค.message633add_box102รับงานเดี่ยว, ปล่อยโซโล่, Unnamed: 47, เปิดค่ายเองทุกคนเถอะBLACKPINK, (นักร้องนักดนตรี)ลลิษา, มโนบาล.1, (ลลิส)YG, EntertainmentK-POPสมาชิกหมายเลข, 77090142, ชั่วโมงmessage15add_box0เวลา, 12.00, น, ประเภททีมหญิง, นครนนท์, พบ, สุพรีม, ทิพย, ชลบุรี, -, อี.เทค, (รอเชียร์, โค้ช, Gift)วอลเลย์บอลnongmoss2, ชั่วโมงmessage68add_box0หลังปีใหม่, ฝรั่งจะกลับมาขายหุ้นต่อหุ้นสมาชิกหมายเลข, 43963973, ชั่วโมงmessage5add_box0เพื่อนบอกว่าของทุกอย่าง, อเมริกา, กับ, ยุโรป, Unnamed: 75, Unnamed: 76, Unnamed: 77, Unnamed: 78, ดีกว่าแบรนด์เอเชียอยู่แล้ว, ทำไมโดนหัวเราะครับเครื่องใช้ไฟฟ้าเทคโนโลยีวิศวกรรถยนต์อุปกรณ์เครื่องใช้ภายในบ้านสมาชิกหมายเลข, 77584073, ชั่วโมงmessage25add_box0วี๊ดดดดด, เพิ่งทราบ, ละคร, มนตราฟ้าฟื้น, ลดงบทุนสร้าง, -.1, รวบรัดตัดจบมนตราฟ้าฟื้น, (ละคร)ละครโทรทัศน์7, HDสมาชิกหมายเลข, 78755173, ชั่วโมงmessage11add_box4เช้าวันหยุด, กับวันที่อากาศหนาวๆเย็นๆ, 13องศา, ดริปกาแฟสดร้อนๆเที่ยวภูเขาเที่ยวไทยสถานที่ท่องเที่ยวภาพถ่ายทิวทัศน์หุ้นสมาชิกหมายเลข, 29332663, ชั่วโมงmessage10add_box0[NEWS][24DEC23][BLACKPINK]🖤💗ข่าวความเคลื่อนไหประจำวันที่, 24, ธันวาคม, ...]\n",
            "Index: []\n",
            "\n",
            "[0 rows x 386 columns]\n"
          ]
        }
      ]
    },
    {
      "cell_type": "code",
      "source": [
        "df.to_csv(\"hizt.csv\")"
      ],
      "metadata": {
        "id": "xZ2WlThOucIL"
      },
      "execution_count": null,
      "outputs": []
    }
  ]
}